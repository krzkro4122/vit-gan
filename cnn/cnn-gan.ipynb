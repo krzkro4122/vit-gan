{
 "cells": [
  {
   "cell_type": "markdown",
   "metadata": {},
   "source": [
    "# Configuration"
   ]
  },
  {
   "cell_type": "code",
   "execution_count": 1,
   "metadata": {},
   "outputs": [],
   "source": [
    "from datetime import datetime\n",
    "import os\n",
    "import random\n",
    "\n",
    "from colorama import Fore\n",
    "\n",
    "import torch\n",
    "import torch.nn as nn\n",
    "import torch.nn.parallel\n",
    "import torch.optim as optim\n",
    "from torch.utils.data import DataLoader\n",
    "\n",
    "import torchvision.datasets as datasets\n",
    "import torchvision.transforms as transforms\n",
    "import torchvision.utils as vutils\n",
    "\n",
    "import numpy as np\n",
    "\n",
    "import matplotlib.animation as animation\n",
    "import matplotlib.pyplot as plt\n",
    "\n",
    "from IPython.display import HTML"
   ]
  },
  {
   "cell_type": "code",
   "execution_count": 2,
   "metadata": {},
   "outputs": [],
   "source": [
    "device = torch.device(\"cuda\" if (torch.cuda.is_available()) else \"cpu\")"
   ]
  },
  {
   "cell_type": "code",
   "execution_count": 3,
   "metadata": {},
   "outputs": [
    {
     "name": "stdout",
     "output_type": "stream",
     "text": [
      "Random Seed:  999\n"
     ]
    }
   ],
   "source": [
    "manualSeed = 999\n",
    "# manualSeed = random.randint(1, 10000) # use if you want new results\n",
    "print(\"Random Seed: \", manualSeed)\n",
    "random.seed(manualSeed)\n",
    "torch.manual_seed(manualSeed)\n",
    "torch.use_deterministic_algorithms(True)"
   ]
  },
  {
   "cell_type": "code",
   "execution_count": 4,
   "metadata": {},
   "outputs": [],
   "source": [
    "OUTPUT_DIRECTORY = \"output\"\n",
    "os.makedirs(OUTPUT_DIRECTORY, exist_ok=True)"
   ]
  },
  {
   "cell_type": "code",
   "execution_count": 5,
   "metadata": {},
   "outputs": [],
   "source": [
    "image_size = 32\n",
    "batch_size = 128\n",
    "\n",
    "learning_rate = 0.0002\n",
    "beta1 = 0.5\n",
    "beta2 = 0.999"
   ]
  },
  {
   "cell_type": "markdown",
   "metadata": {},
   "source": [
    "# Loading data"
   ]
  },
  {
   "cell_type": "code",
   "execution_count": 6,
   "metadata": {},
   "outputs": [],
   "source": [
    "DATASET_PATH = \"../data/cifar10\"\n",
    "\n",
    "\n",
    "def get_cifar_loader_configuration(is_training: bool):\n",
    "    return {\n",
    "        \"dataset\": datasets.CIFAR10(\n",
    "            DATASET_PATH,\n",
    "            train=is_training,\n",
    "            download=True,\n",
    "            transform=transforms.Compose(\n",
    "                [\n",
    "                    transforms.Resize(image_size),\n",
    "                    transforms.CenterCrop(image_size),\n",
    "                    transforms.ToTensor(),\n",
    "                    transforms.Normalize((0.5, 0.5, 0.5), (0.5, 0.5, 0.5)),\n",
    "                ]\n",
    "            ),\n",
    "        ),\n",
    "        \"batch_size\": batch_size,\n",
    "        \"shuffle\": True,\n",
    "    }\n",
    "\n",
    "def show_example_from(loader: DataLoader):\n",
    "    loader.batch_size\n",
    "    features, labels = next(iter(loader))\n",
    "    print(f\"Feature batch shape: {features.size()}\")\n",
    "    print(f\"Labels batch shape: {labels.size()}\")\n",
    "    image = features[0].squeeze()\n",
    "    label = labels[0]\n",
    "    image = image.permute(1, 2, 0)  # Change the shape to (32, 32, 3)\n",
    "    image = (image + 1) / 2  # Adjust the values to [0, 1] range\n",
    "    plt.imshow(image)\n",
    "    plt.show()\n",
    "    print(f\"Label: {label}\")"
   ]
  },
  {
   "cell_type": "code",
   "execution_count": 7,
   "metadata": {},
   "outputs": [
    {
     "name": "stdout",
     "output_type": "stream",
     "text": [
      "Files already downloaded and verified\n",
      "Files already downloaded and verified\n",
      "Feature batch shape: torch.Size([128, 3, 32, 32])\n",
      "Labels batch shape: torch.Size([128])\n"
     ]
    },
    {
     "data": {
      "image/png": "[encoded data removed]",
      "text/plain": [
       "<Figure size 640x480 with 1 Axes>"
      ]
     },
     "metadata": {},
     "output_type": "display_data"
    },
    {
     "name": "stdout",
     "output_type": "stream",
     "text": [
      "Label: 0\n",
      "Feature batch shape: torch.Size([128, 3, 32, 32])\n",
      "Labels batch shape: torch.Size([128])\n"
     ]
    },
    {
     "data": {
      "image/png": "[encoded data removed]",
      "text/plain": [
       "<Figure size 640x480 with 1 Axes>"
      ]
     },
     "metadata": {},
     "output_type": "display_data"
    },
    {
     "name": "stdout",
     "output_type": "stream",
     "text": [
      "Label: 2\n"
     ]
    }
   ],
   "source": [
    "# Use the custom dataset in the data loader\n",
    "train_dataloader = torch.utils.data.DataLoader(\n",
    "    **get_cifar_loader_configuration(is_training=True)\n",
    ")\n",
    "# Use the custom dataset in the data loader\n",
    "test_dataloader = torch.utils.data.DataLoader(\n",
    "    **get_cifar_loader_configuration(is_training=False)\n",
    ")\n",
    "\n",
    "show_example_from(train_dataloader)\n",
    "show_example_from(test_dataloader)"
   ]
  },
  {
   "cell_type": "markdown",
   "metadata": {},
   "source": [
    "# Models"
   ]
  },
  {
   "cell_type": "code",
   "execution_count": 8,
   "metadata": {},
   "outputs": [
    {
     "name": "stdout",
     "output_type": "stream",
     "text": [
      "Discriminator(\n",
      "  (main): Sequential(\n",
      "    (0): Conv2d(3, 64, kernel_size=(4, 4), stride=(2, 2), padding=(1, 1), bias=False)\n",
      "    (1): BatchNorm2d(64, eps=1e-05, momentum=0.1, affine=True, track_running_stats=True)\n",
      "    (2): LeakyReLU(negative_slope=0.2, inplace=True)\n",
      "    (3): Conv2d(64, 128, kernel_size=(4, 4), stride=(2, 2), padding=(1, 1), bias=False)\n",
      "    (4): BatchNorm2d(128, eps=1e-05, momentum=0.1, affine=True, track_running_stats=True)\n",
      "    (5): LeakyReLU(negative_slope=0.2, inplace=True)\n",
      "    (6): Conv2d(128, 256, kernel_size=(4, 4), stride=(2, 2), padding=(1, 1), bias=False)\n",
      "    (7): BatchNorm2d(256, eps=1e-05, momentum=0.1, affine=True, track_running_stats=True)\n",
      "    (8): LeakyReLU(negative_slope=0.2, inplace=True)\n",
      "    (9): Conv2d(256, 1, kernel_size=(4, 4), stride=(1, 1), bias=False)\n",
      "    (10): Sigmoid()\n",
      "  )\n",
      ")\n",
      "Generator(\n",
      "  (main): Sequential(\n",
      "    (0): ConvTranspose2d(100, 256, kernel_size=(4, 4), stride=(1, 1), bias=False)\n",
      "    (1): ReLU(inplace=True)\n",
      "    (2): ConvTranspose2d(256, 128, kernel_size=(4, 4), stride=(2, 2), padding=(1, 1), bias=False)\n",
      "    (3): BatchNorm2d(128, eps=1e-05, momentum=0.1, affine=True, track_running_stats=True)\n",
      "    (4): ReLU(inplace=True)\n",
      "    (5): ConvTranspose2d(128, 64, kernel_size=(4, 4), stride=(2, 2), padding=(1, 1), bias=False)\n",
      "    (6): ReLU(inplace=True)\n",
      "    (7): ConvTranspose2d(64, 3, kernel_size=(4, 4), stride=(2, 2), padding=(1, 1), bias=False)\n",
      "    (8): Tanh()\n",
      "  )\n",
      ")\n"
     ]
    }
   ],
   "source": [
    "class Discriminator(nn.Module):\n",
    "    def __init__(self):\n",
    "        super(Discriminator, self).__init__()\n",
    "        self.main = nn.Sequential(\n",
    "            # input is (nc) x 32 x 32\n",
    "            nn.Conv2d(3, 64, 4, 2, 1, bias=False),\n",
    "            nn.BatchNorm2d(64),\n",
    "            nn.LeakyReLU(0.2, inplace=True),\n",
    "            # state size. (ndf) x 16 x 16\n",
    "            nn.Conv2d(64, 128, 4, 2, 1, bias=False),\n",
    "            nn.BatchNorm2d(128),\n",
    "            nn.LeakyReLU(0.2, inplace=True),\n",
    "            # state size. (ndf*2) x 8 x 8\n",
    "            nn.Conv2d(128, 256, 4, 2, 1, bias=False),\n",
    "            nn.BatchNorm2d(256),\n",
    "            nn.LeakyReLU(0.2, inplace=True),\n",
    "            # state size. (ndf*4) x 4 x 4\n",
    "            nn.Conv2d(256, 1, 4, 1, 0, bias=False),\n",
    "            nn.Sigmoid(),\n",
    "        )\n",
    "\n",
    "    def forward(self, input):\n",
    "        return self.main(input)\n",
    "\n",
    "\n",
    "class Generator(nn.Module):\n",
    "    def __init__(self):\n",
    "        super(Generator, self).__init__()\n",
    "        self.main = nn.Sequential(\n",
    "            # input is Z, going into a convolution\n",
    "            nn.ConvTranspose2d(100, 256, 4, 1, 0, bias=False),\n",
    "            nn.ReLU(True),\n",
    "            # state size. (ngf*8) x 4 x 4\n",
    "            nn.ConvTranspose2d(256, 128, 4, 2, 1, bias=False),\n",
    "            nn.BatchNorm2d(128),\n",
    "            nn.ReLU(True),\n",
    "            # state size. (ngf*4) x 8 x 8\n",
    "            nn.ConvTranspose2d(128, 64, 4, 2, 1, bias=False),\n",
    "            nn.ReLU(True),\n",
    "            # state size. (ngf*2) x 16 x 16\n",
    "            nn.ConvTranspose2d(64, 3, 4, 2, 1, bias=False),\n",
    "            nn.Tanh()\n",
    "            # state size. (nc) x 32 x 32\n",
    "        )\n",
    "\n",
    "    def forward(self, input):\n",
    "        return self.main(input)\n",
    "\n",
    "\n",
    "# Create Discriminator and Generator instances on CUDA device\n",
    "discriminator = Discriminator().to(device)\n",
    "generator = Generator().to(device)\n",
    "\n",
    "# Initialize optimizer for Discriminator and Generator\n",
    "optimizerD = optim.Adam(discriminator.parameters(), lr=learning_rate, betas=(beta1, beta2))\n",
    "optimizerG = optim.Adam(generator.parameters(), lr=learning_rate, betas=(beta1, beta2))\n",
    "\n",
    "# Loss function\n",
    "criterion = nn.BCELoss()\n",
    "\n",
    "# Print info about the models\n",
    "print(discriminator)\n",
    "print(generator)"
   ]
  },
  {
   "cell_type": "markdown",
   "metadata": {},
   "source": [
    "# Training loop"
   ]
  },
  {
   "cell_type": "code",
   "execution_count": 9,
   "metadata": {},
   "outputs": [
    {
     "name": "stdout",
     "output_type": "stream",
     "text": [
      "Starting the training loop...\n",
      "\u001b[34m[ 0/15][  0/391]   \u001b[36mLoss_D: 1.4748 Loss_G: 1.4585   \u001b[32mD(x): 0.5690 D(G(z)): 0.5842/0.2421\u001b[39m\n",
      "\u001b[34m[ 0/15][ 50/391]   \u001b[36mLoss_D: 0.3279 Loss_G: 4.8452   \u001b[32mD(x): 0.8350 D(G(z)): 0.1217/0.0093\u001b[39m\n"
     ]
    }
   ],
   "source": [
    "# Tracking progress\n",
    "images = []\n",
    "G_losses = []\n",
    "D_losses = []\n",
    "\n",
    "iterations_passed = 0\n",
    "number_of_epochs = 15\n",
    "\n",
    "model_save_interval = 1500\n",
    "samples_save_interval = 500\n",
    "\n",
    "\n",
    "def train_on_real_batch():\n",
    "    discriminator.zero_grad()\n",
    "    real_cpu = data_batch[0].to(device)\n",
    "    b_size = real_cpu.size(0)\n",
    "    label = torch.full((b_size,), 1, dtype=torch.float32, device=device)\n",
    "    output = discriminator(real_cpu).view(-1)\n",
    "    errD_real = criterion(output, label)\n",
    "    errD_real.backward()\n",
    "    D_x = output.mean().item()\n",
    "    return D_x, label, b_size, errD_real\n",
    "\n",
    "\n",
    "def train_on_fake_batch():\n",
    "    noise = torch.randn(b_size, 100, 1, 1, device=device)\n",
    "    fake = generator(noise)\n",
    "    label.fill_(0)\n",
    "    output = discriminator(fake.detach()).view(-1)\n",
    "    errD_fake = criterion(output, label)\n",
    "    errD_fake.backward()\n",
    "    D_G_z1 = output.mean().item()\n",
    "    errD = errD_real + errD_fake\n",
    "    optimizerD.step()\n",
    "    return noise, fake, D_G_z1, errD\n",
    "\n",
    "\n",
    "def update_generator_network():\n",
    "    generator.zero_grad()\n",
    "    label.fill_(1)  # fake labels are real for generator cost\n",
    "    output = discriminator(fake).view(-1)\n",
    "    errG = criterion(output, label)\n",
    "    errG.backward()\n",
    "    D_G_z2 = output.mean().item()\n",
    "    optimizerG.step()\n",
    "    return D_G_z2, errG\n",
    "\n",
    "\n",
    "def log_training():\n",
    "    epoch_width = len(str(number_of_epochs))\n",
    "    index_width = len(str(len(train_dataloader)))\n",
    "    counters = f\"{Fore.BLUE}[{epoch:>{epoch_width}}/{number_of_epochs}][{index:>{index_width}}/{len(train_dataloader)}]   \"\n",
    "    losses = f\"{Fore.CYAN}Loss_D: {errD.item():.4f} Loss_G: {errG.item():.4f}   \"\n",
    "    idk = f\"{Fore.GREEN}D(x): {D_x:.4f} D(G(z)): {D_G_z1:.4f}/{D_G_z2:.4f}{Fore.RESET}\"\n",
    "    if index % 50 == 0:\n",
    "        print(\"\".join([counters, losses, idk]))\n",
    "\n",
    "\n",
    "def save_loses():\n",
    "    G_losses.append(errG.item())\n",
    "    D_losses.append(errD.item())\n",
    "\n",
    "\n",
    "def is_xth_or_last_epoch(x: int | None):\n",
    "    return (iterations_passed % x == 0) or (\n",
    "        (epoch == number_of_epochs - 1) and (index == len(train_dataloader) - 1)\n",
    "    )\n",
    "\n",
    "\n",
    "def save_sample_of_generator_progress(save_interval: int | None):\n",
    "    if not save_interval or is_xth_or_last_epoch(x=save_interval):\n",
    "        with torch.no_grad():\n",
    "            fake = generator(noise).detach().cpu()\n",
    "        images.append(vutils.make_grid(fake, padding=2, normalize=True))\n",
    "        vutils.save_image(\n",
    "            fake,\n",
    "            f\"{generated_images_directory}/fake_images_{iterations_passed if save_interval else f'{iterations_passed}_on_quit'}.png\",\n",
    "        )\n",
    "\n",
    "\n",
    "def save_model(save_interval: int | None):\n",
    "    if not save_interval or is_xth_or_last_epoch(x=save_interval):\n",
    "        torch.save(\n",
    "            generator.state_dict(),\n",
    "            f\"{checkpoints_directory}/generator_{iterations_passed if save_interval else 'on_quit'}.pth\",\n",
    "        )\n",
    "\n",
    "\n",
    "def save_animation():\n",
    "    image_plots = [\n",
    "        [plt.imshow(np.transpose(i, (1, 2, 0)), animated=True)] for i in images\n",
    "    ]\n",
    "    figure = plt.figure(figsize=(8, 8))\n",
    "    plt.axis(\"off\")\n",
    "    training_animation = animation.ArtistAnimation(\n",
    "        figure, image_plots, interval=1000, repeat_delay=1000, blit=True\n",
    "    )\n",
    "    HTML(training_animation.to_jshtml())\n",
    "    training_animation.save(\n",
    "        f\"{today_directory}/animation.gif\",\n",
    "        writer=\"imagemagick\",\n",
    "        fps=4,\n",
    "    )\n",
    "\n",
    "\n",
    "def plot_losses():\n",
    "    plt.figure()\n",
    "    plt.plot(G_losses, label=\"Generator loss\")\n",
    "    plt.plot(D_losses, label=\"Discriminator Loss\")\n",
    "    plt.legend()\n",
    "    plt.savefig(f\"{today_directory}/losses.png\")\n",
    "    plt.show()\n",
    "\n",
    "\n",
    "def create_output_bucket():\n",
    "    today = datetime.now()\n",
    "    today_slug = f\"{today.day:02}-{today.month:02}-{today.year:04}_{today.hour:02}:{today.minute:02}:{today.second:02}\"\n",
    "    today_directory = f\"{OUTPUT_DIRECTORY}/{today_slug}\"\n",
    "    checkpoints_directory = f\"{today_directory}/model_checkpoints\"\n",
    "    generated_images_directory = f\"{today_directory}/generated_images\"\n",
    "    os.makedirs(today_directory, exist_ok=True)\n",
    "    os.makedirs(checkpoints_directory, exist_ok=True)\n",
    "    os.makedirs(generated_images_directory, exist_ok=True)\n",
    "    return (\n",
    "        today_directory,\n",
    "        checkpoints_directory,\n",
    "        generated_images_directory,\n",
    "    )\n",
    "\n",
    "\n",
    "try:\n",
    "    (\n",
    "        today_directory,\n",
    "        checkpoints_directory,\n",
    "        generated_images_directory,\n",
    "    ) = create_output_bucket()\n",
    "    print(\"Starting the training loop...\")\n",
    "    for epoch in range(number_of_epochs):\n",
    "        for index, data_batch in enumerate(train_dataloader, 0):\n",
    "            D_x, label, b_size, errD_real = train_on_real_batch()\n",
    "            noise, fake, D_G_z1, errD = train_on_fake_batch()\n",
    "            D_G_z2, errG = update_generator_network()\n",
    "            log_training()\n",
    "            save_loses()\n",
    "            save_model(save_interval=model_save_interval)\n",
    "            save_sample_of_generator_progress(save_interval=samples_save_interval)\n",
    "            iterations_passed += 1\n",
    "except KeyboardInterrupt:\n",
    "    ...\n",
    "finally:\n",
    "    save_model(save_interval=None)\n",
    "    save_sample_of_generator_progress(save_interval=None)\n",
    "    plot_losses()\n",
    "    save_animation()"
   ]
  },
  {
   "cell_type": "markdown",
   "metadata": {},
   "source": [
    "# Visual samples"
   ]
  },
  {
   "cell_type": "code",
   "execution_count": null,
   "metadata": {},
   "outputs": [
    {
     "ename": "",
     "evalue": "",
     "output_type": "error",
     "traceback": [
      "\u001b[1;31mRunning cells with '/opt/homebrew/bin/python3.12' requires the ipykernel package.\n",
      "\u001b[1;31mRun the following command to install 'ipykernel' into the Python environment. \n",
      "\u001b[1;31mCommand: '/opt/homebrew/bin/python3.12 -m pip install ipykernel -U --user --force-reinstall'"
     ]
    }
   ],
   "source": [
    "# To use this, execute first cell, then Discriminator and Generator cells\n",
    "\n",
    "\n",
    "def find_latest_checkpoint_directory():\n",
    "    dates = os.listdir(f\"{OUTPUT_DIRECTORY}\")\n",
    "    assert dates, \"There are no saved generator states! Train a new one 🙏\"\n",
    "    dates.sort(\n",
    "        key=lambda date: datetime.strptime(date, \"%d-%m-%Y_%H:%M:%S\"),\n",
    "        reverse=True,\n",
    "    )\n",
    "    print(f\"Picked output directory: {dates[0]}\")\n",
    "    return f\"{OUTPUT_DIRECTORY}/{dates[0]}\"\n",
    "\n",
    "\n",
    "def find_latest_generator_path():\n",
    "    checkpoints_directory = f\"{latest_checkpoint_directory}/model_checkpoints/\"\n",
    "    generators = os.listdir(checkpoints_directory)\n",
    "    generators.sort(key=lambda generator: generator, reverse=True)\n",
    "    print(f\"Picked generator: {generators[0]}\")\n",
    "    return f\"{latest_checkpoint_directory}/model_checkpoints/{generators[0]}\"\n",
    "\n",
    "\n",
    "def load_latest_generator():\n",
    "    generator = Generator().to(device)\n",
    "    path = find_latest_generator_path()\n",
    "    generator.load_state_dict(torch.load(path))\n",
    "    return generator\n",
    "\n",
    "\n",
    "def generate_fake_images():\n",
    "    fixed_noise = torch.randn(64, 100, 1, 1, device=device)\n",
    "    fake_images = newest_generator(fixed_noise)\n",
    "    return fake_images\n",
    "\n",
    "\n",
    "def plot_fake_images():\n",
    "    plt.figure(figsize=(10, 10))\n",
    "    plt.axis(\"off\")\n",
    "    plt.title(\"Fake Images\")\n",
    "    plt.imshow(\n",
    "        np.transpose(\n",
    "            vutils.make_grid(\n",
    "                fake_images.to(device)[:64], padding=5, normalize=True\n",
    "            ).cpu(),\n",
    "            (1, 2, 0),\n",
    "        )\n",
    "    )\n",
    "\n",
    "\n",
    "latest_checkpoint_directory = find_latest_checkpoint_directory()\n",
    "newest_generator = load_latest_generator()\n",
    "fake_images = generate_fake_images()\n",
    "plot_fake_images()"
   ]
  }
 ],
 "metadata": {
  "kernelspec": {
   "display_name": ".venv",
   "language": "python",
   "name": "python3"
  },
  "language_info": {
   "codemirror_mode": {
    "name": "ipython",
    "version": 3
   },
   "file_extension": ".py",
   "mimetype": "text/x-python",
   "name": "python",
   "nbconvert_exporter": "python",
   "pygments_lexer": "ipython3",
   "version": "3.11.6"
  }
 },
 "nbformat": 4,
 "nbformat_minor": 2
}
